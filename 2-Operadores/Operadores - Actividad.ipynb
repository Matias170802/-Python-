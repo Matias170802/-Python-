{
 "cells": [
  {
   "attachments": {},
   "cell_type": "markdown",
   "metadata": {},
   "source": [
    "## Operadores - Actividad"
   ]
  },
  {
   "attachments": {},
   "cell_type": "markdown",
   "metadata": {},
   "source": [
    "1) Pedir al usuario dos números y mostrar por pantalla la suma de ellos."
   ]
  },
  {
   "cell_type": "code",
   "execution_count": 1,
   "metadata": {},
   "outputs": [
    {
     "name": "stdout",
     "output_type": "stream",
     "text": [
      "8\n",
      "6\n"
     ]
    }
   ],
   "source": [
    "n1 = input(\"Ingrese Numero 1 \")\n",
    "n2 = input(\" Ingrese Numero 2 \")\n",
    "print(n1)\n",
    "print(n2)"
   ]
  },
  {
   "attachments": {},
   "cell_type": "markdown",
   "metadata": {},
   "source": [
    "2) Calcular el perímetro y área de un rectángulo dada su base y su altura (el usuario debe introducir por teclado los dos valores)."
   ]
  },
  {
   "cell_type": "code",
   "execution_count": 4,
   "metadata": {},
   "outputs": [
    {
     "name": "stdout",
     "output_type": "stream",
     "text": [
      "El area es:  8.0\n",
      "El perimetro es:  12.0\n"
     ]
    }
   ],
   "source": [
    "n1 = input(\"Ingrese Base \")\n",
    "n2 = input(\" Ingrese Altura \")\n",
    "n1 = float(n1)\n",
    "n2 = float(n2)\n",
    "perimetro = n1*2 + n2*2\n",
    "area = n1*n2\n",
    "print (f\"El area es:  {area}\")\n",
    "print (f\"El perimetro es:  {perimetro}\")"
   ]
  },
  {
   "attachments": {},
   "cell_type": "markdown",
   "metadata": {},
   "source": [
    "3) Calcular el resultado de elevar un número entero a otro número entero (por ejemplo, 5 elevado a 3 = 5^3 = 5*5*5)."
   ]
  },
  {
   "cell_type": "code",
   "execution_count": 5,
   "metadata": {},
   "outputs": [
    {
     "name": "stdout",
     "output_type": "stream",
     "text": [
      "El resultado de multiplicar 3.0 veces el numero 2.0 es : 8.0\n"
     ]
    }
   ],
   "source": [
    "n1 = input(\"Ingrese un numero \")\n",
    "n2 = input(f\" Ingrese numero de veces que quiere que se multiplique el {n1}  \")\n",
    "n1 = float(n1)\n",
    "n2 = float(n2)\n",
    "potencia = n1**n2\n",
    "print(f\"El resultado de multiplicar {n2} veces el numero {n1} es : {potencia}\")"
   ]
  },
  {
   "attachments": {},
   "cell_type": "markdown",
   "metadata": {},
   "source": [
    "4) Escribe un programa que convierta grados Celsius a grados Fahrenheit utilizando la fórmula: **F = (C * 9/5) + 32**"
   ]
  },
  {
   "cell_type": "code",
   "execution_count": 7,
   "metadata": {},
   "outputs": [
    {
     "name": "stdout",
     "output_type": "stream",
     "text": [
      "30 Celsius son 86.0 Fahrenheit \n"
     ]
    }
   ],
   "source": [
    "n1 = input(\"Ingrese grados Celcius que quiera transformar a Fahrenheit: \")\n",
    "n1 = int(n1)\n",
    "F = (n1*9/5) + 32\n",
    "print(f\"{n1} Celsius son {F} Fahrenheit \")"
   ]
  },
  {
   "attachments": {},
   "cell_type": "markdown",
   "metadata": {},
   "source": [
    "5) Pedir al usuario su edad y mostrar por pantalla si es mayor de edad o no. (Mayor de edad >= 18)"
   ]
  },
  {
   "cell_type": "code",
   "execution_count": 10,
   "metadata": {},
   "outputs": [
    {
     "name": "stdout",
     "output_type": "stream",
     "text": [
      "Es mayor\n"
     ]
    }
   ],
   "source": [
    "n1 = input(\"Ingrese su edad \")\n",
    "n1 = int(n1)\n",
    "if n1 < 18 :\n",
    "    print(\"Es menor\")\n",
    "else :\n",
    "    print(\"Es mayor\")"
   ]
  },
  {
   "attachments": {},
   "cell_type": "markdown",
   "metadata": {},
   "source": [
    "6) Comprobar si el numero ingresado por el usuario es par o impar."
   ]
  },
  {
   "cell_type": "code",
   "execution_count": 14,
   "metadata": {},
   "outputs": [
    {
     "name": "stdout",
     "output_type": "stream",
     "text": [
      "Es par? 1 (Si es 0 es par si es 1 es impar)\n"
     ]
    }
   ],
   "source": [
    "n1 = int(input(\"Ingrese su edad \"))\n",
    "print(f\"Es par? {n1%2} (Si es 0 es par si es 1 es impar)\")"
   ]
  },
  {
   "attachments": {},
   "cell_type": "markdown",
   "metadata": {},
   "source": [
    "7) Pedir al usuario que ingrese su dirección email y luego mostrar un mensaje indicando si la dirección es válida o no. Una dirección se considerará válida si contiene el símbolo \"@\"."
   ]
  },
  {
   "cell_type": "code",
   "execution_count": 2,
   "metadata": {},
   "outputs": [
    {
     "name": "stdout",
     "output_type": "stream",
     "text": [
      "Es la dirreccion de correo valida? True\n"
     ]
    }
   ],
   "source": [
    "email = input(\"Colocar email: \")\n",
    "\n",
    "print(f\"Es la dirreccion de correo valida?\", \"@\" in email)"
   ]
  },
  {
   "attachments": {},
   "cell_type": "markdown",
   "metadata": {},
   "source": [
    "8) Dado un número de dos cifras, diseñe un algoritmo que permita obtener el número invertido. Ejemplo, si se introduce 23 que muestre 32. (Recordar que las cadenas pueden tratarse como listas de caracteres)."
   ]
  },
  {
   "cell_type": "code",
   "execution_count": 6,
   "metadata": {},
   "outputs": [
    {
     "name": "stdout",
     "output_type": "stream",
     "text": [
      "El numero dado vuelta es 19 \n"
     ]
    }
   ],
   "source": [
    "n1 = input(\"Ingrese un numero de dos cifras: \")\n",
    "a = n1[0]\n",
    "b = n1[1]\n",
    "print(f\"El numero dado vuelta es {b}{a} \")"
   ]
  },
  {
   "attachments": {},
   "cell_type": "markdown",
   "metadata": {},
   "source": [
    "9) Crea un programa que pida al usuario dos números y muestre True si ambos son mayores que 10."
   ]
  },
  {
   "cell_type": "code",
   "execution_count": 14,
   "metadata": {},
   "outputs": [
    {
     "name": "stdout",
     "output_type": "stream",
     "text": [
      "Son mayores a 10 los dos numeros? False\n"
     ]
    }
   ],
   "source": [
    "n1 = int(input(\"Ingrese primer numero \"))\n",
    "n2 = int(input(\"Ingrese segundo numero \"))\n",
    "primero = n1 >= 10\n",
    "segundo = n2 >= 10\n",
    "mayores = primero and segundo\n",
    "print(f\"Son mayores a 10 los dos numeros? {mayores}\")"
   ]
  },
  {
   "attachments": {},
   "cell_type": "markdown",
   "metadata": {},
   "source": [
    "10) Escribe un programa que verifique si un número ingresado por el usuario es divisible por 3 y por 5."
   ]
  },
  {
   "cell_type": "code",
   "execution_count": 16,
   "metadata": {},
   "outputs": [
    {
     "name": "stdout",
     "output_type": "stream",
     "text": [
      "Es divisible por 5 y 3\n"
     ]
    }
   ],
   "source": [
    "n1 = int(input(\"Ingrese un numero \"))\n",
    "porcinco = n1 % 5\n",
    "portres = n1 % 3\n",
    "if porcinco == 0 and portres == 0 :\n",
    "    print(\"Es divisible por 5 y 3\")\n",
    "else :\n",
    "    print(\"No es divisible por 5 y 3\")"
   ]
  },
  {
   "attachments": {},
   "cell_type": "markdown",
   "metadata": {},
   "source": [
    "11) Utilizando la información del punto 5, preguntar al usuario si posee carnet de conducir, luego verificar si puede conducir un automóvil."
   ]
  },
  {
   "cell_type": "code",
   "execution_count": 22,
   "metadata": {},
   "outputs": [
    {
     "name": "stdout",
     "output_type": "stream",
     "text": [
      "Es menor\n",
      "No tiene carnet\n"
     ]
    }
   ],
   "source": [
    "n1 = input(\"Ingrese su edad \")\n",
    "n1 = int(n1)\n",
    "carnet = \"No\"\n",
    "if n1 >= 18 :\n",
    "    print(\"Es mayor\")\n",
    "    carnet = input(\"Tiene carnet de conducir? Si o No\")\n",
    "else:\n",
    "    print(\"Es menor\")\n",
    "if carnet == \"Si\" :\n",
    "    print(\"Tiene carnet \")\n",
    "else : \n",
    "    print(\"No tiene carnet\")"
   ]
  },
  {
   "attachments": {},
   "cell_type": "markdown",
   "metadata": {},
   "source": [
    "12) Pide al usuario un número y verifica si es positivo y no es mayor que 100."
   ]
  },
  {
   "cell_type": "code",
   "execution_count": 25,
   "metadata": {},
   "outputs": [
    {
     "name": "stdout",
     "output_type": "stream",
     "text": [
      "Es positivo?, False Es menor a 100? True\n"
     ]
    }
   ],
   "source": [
    "n1 = int (input(\"Ingrese un numero \"))\n",
    "print(f\"Es positivo?, {n1 >= 0} \" + f\"Es menor a 100? {n1 < 100}\")\n"
   ]
  },
  {
   "attachments": {},
   "cell_type": "markdown",
   "metadata": {},
   "source": [
    "13) Crear un programa que valide si un número ingresado por el usuario es par y mayor que 20."
   ]
  },
  {
   "cell_type": "code",
   "execution_count": 26,
   "metadata": {},
   "outputs": [
    {
     "name": "stdout",
     "output_type": "stream",
     "text": [
      "Es par True Es mayor a 20? True\n"
     ]
    }
   ],
   "source": [
    "n1 = int (input(\"Ingrese un numero \"))\n",
    "print(f\"Es par {n1%2 == 0} \" + f\"Es mayor a 20? {n1 >= 20}\")"
   ]
  },
  {
   "attachments": {},
   "cell_type": "markdown",
   "metadata": {},
   "source": [
    "14) Dada la variable **numero = 5**, realizar la operación necesaria para que número sea igual a 8. Luego imprimir en pantalla el nuevo valor de número y realizar una nueva operación para que el valor de número sea igual a 4 y mostrar en pantalla el nuevo valor."
   ]
  },
  {
   "cell_type": "code",
   "execution_count": 28,
   "metadata": {},
   "outputs": [
    {
     "name": "stdout",
     "output_type": "stream",
     "text": [
      "5\n",
      "8\n",
      "4.0\n"
     ]
    }
   ],
   "source": [
    "numero = 5\n",
    "print(numero)\n",
    "numero += 3\n",
    "print(numero)\n",
    "numero /= 2\n",
    "print(numero)"
   ]
  },
  {
   "attachments": {},
   "cell_type": "markdown",
   "metadata": {},
   "source": [
    "15) Dadas las variables altura = \"10\" y base = 5, calcular el área de un triángulo y mostrar el resultado en pantalla. ¿Por qué el resultado es un error? ¿Cómo lo corregirías?"
   ]
  },
  {
   "cell_type": "code",
   "execution_count": null,
   "metadata": {},
   "outputs": [],
   "source": []
  },
  {
   "attachments": {},
   "cell_type": "markdown",
   "metadata": {},
   "source": [
    "16) Crea un programa que calcule el promedio de tres calificaciones ingresadas por el usuario, y comprobar si el alumno aprobó o no (aprueba con nota mayor a 6)."
   ]
  },
  {
   "cell_type": "code",
   "execution_count": 31,
   "metadata": {},
   "outputs": [
    {
     "name": "stdout",
     "output_type": "stream",
     "text": [
      "El promedio es 2.6666666666666665 Aprobo? False\n"
     ]
    }
   ],
   "source": [
    "n1 = int(input(\"Ingrese primera calificacion \"))\n",
    "n2 = int(input(\"Ingrese segunda calificacion \"))\n",
    "n3 = int(input(\"Ingrese tercera calificacion \"))\n",
    "\n",
    "promedio = (n1 + n2 + n3)/3\n",
    "print(f\"El promedio es {promedio} Aprobo? {promedio >= 6}\")"
   ]
  },
  {
   "attachments": {},
   "cell_type": "markdown",
   "metadata": {},
   "source": [
    "17) Pide al usuario su edad y calcula cuántos días, horas y minutos ha vivido aproximadamente (asumiendo 365 días por año)."
   ]
  },
  {
   "cell_type": "code",
   "execution_count": null,
   "metadata": {},
   "outputs": [],
   "source": [
    "n1 = int(input(\"Introduzca edad \"))\n",
    "dias = n1 / 365\n",
    "horas = dias / 24\n",
    "minutos = horas / 60\n"
   ]
  },
  {
   "attachments": {},
   "cell_type": "markdown",
   "metadata": {},
   "source": [
    "18) Crea un programa que verifique si un número ingresado por el usuario es múltiplo de 4 y de 6 al mismo tiempo."
   ]
  },
  {
   "cell_type": "code",
   "execution_count": null,
   "metadata": {},
   "outputs": [],
   "source": []
  },
  {
   "attachments": {},
   "cell_type": "markdown",
   "metadata": {},
   "source": [
    "19) "
   ]
  }
 ],
 "metadata": {
  "kernelspec": {
   "display_name": "Python 3",
   "language": "python",
   "name": "python3"
  },
  "language_info": {
   "codemirror_mode": {
    "name": "ipython",
    "version": 3
   },
   "file_extension": ".py",
   "mimetype": "text/x-python",
   "name": "python",
   "nbconvert_exporter": "python",
   "pygments_lexer": "ipython3",
   "version": "3.12.0"
  }
 },
 "nbformat": 4,
 "nbformat_minor": 2
}
